{
 "cells": [
  {
   "cell_type": "code",
   "execution_count": 1,
   "id": "f793ccdc",
   "metadata": {},
   "outputs": [
    {
     "name": "stdout",
     "output_type": "stream",
     "text": [
      "2.205\n",
      "is the average number of tunnels per round\n",
      "7.68\n",
      "is the average number of hits per round\n",
      "14.295\n",
      "is the average score per round\n"
     ]
    }
   ],
   "source": [
    "import serial\n",
    "import time\n",
    "import random\n",
    "import numpy as np\n",
    "ser = serial.Serial()\n",
    "ser.baudrate = 115200\n",
    "ser.port = 'COM2'  # Replace with the other virtual serial port from com0com\n",
    "ser.open()\n",
    "hit_counter = 0\n",
    "min_hm = 1\n",
    "max_hm = np.random.randint(1,5)\n",
    "play_counter = 0\n",
    "play_list = []\n",
    "hitz = 0\n",
    "tunnel =[]\n",
    "tunnel_counter = 0\n",
    "score = 0\n",
    "for _ in range(3000):\n",
    "    \n",
    "    \n",
    "    hm = min_hm + max_hm\n",
    "    #print(hm)\n",
    "    #print(\"hm\")\n",
    "    play_counter += 1\n",
    "    \n",
    "    data = random.choice([\"Hit\", \"Miss\"])\n",
    "    if data == \"Hit\":\n",
    "        hit_counter+=1\n",
    "        hitz += 1\n",
    "        score += 1\n",
    "    #print(hit_counter)\n",
    "    #print(\"hit counter\")\n",
    "    if hit_counter == hm:\n",
    "        data = \"Hit & Miss\"\n",
    "        hit_counter = 0\n",
    "        score += 3\n",
    "        max_hm = np.random.randint(1,5)\n",
    "        tunnel_counter += 1\n",
    "    if play_counter == 15:\n",
    "        play_counter == 0\n",
    "        \n",
    "            \n",
    "        \n",
    "    ser.write(f\"{data}\\n\".encode())\n",
    " #   time.sleep(1) # simulate time between shots\n",
    "    #comment the line above to see stats such as average number of tunnels/hits faster\n",
    "\n",
    "ser.close()\n",
    "print(tunnel_counter*(15/3000))\n",
    "print(\"is the average number of tunnels per round\")\n",
    "print(hitz*(15/3000))\n",
    "print(\"is the average number of hits per round\")\n",
    "print(score*(15/3000))\n",
    "print(\"is the average score per round\")"
   ]
  },
  {
   "cell_type": "code",
   "execution_count": null,
   "id": "0935d934",
   "metadata": {},
   "outputs": [],
   "source": []
  }
 ],
 "metadata": {
  "kernelspec": {
   "display_name": "Python 3 (ipykernel)",
   "language": "python",
   "name": "python3"
  },
  "language_info": {
   "codemirror_mode": {
    "name": "ipython",
    "version": 3
   },
   "file_extension": ".py",
   "mimetype": "text/x-python",
   "name": "python",
   "nbconvert_exporter": "python",
   "pygments_lexer": "ipython3",
   "version": "3.9.13"
  }
 },
 "nbformat": 4,
 "nbformat_minor": 5
}
